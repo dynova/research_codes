{
 "cells": [
  {
   "cell_type": "code",
   "execution_count": null,
   "id": "cebe176c-a023-49a3-ba23-79296d5498e5",
   "metadata": {
    "scrolled": true
   },
   "outputs": [],
   "source": [
    "from sympy import *\n",
    "TR, TA, E1, E2, E3, IS, IL, V, VP, B1, B2, S, A, R = symbols('TR TA E1 E2 E3 IS IL V VP B1 B2 S A R')\n",
    "lamb, mur, alpha, betar, gamma, mua, betaa, ke, epsilon, delta, f, ps, pl, c, kappai, ft, kappae, n, kf, kr, kpx, kmx, kpc, kmc, ka, kd, rt  = symbols('lamb mur alpha betar gamma mua betaa ke epsilon delta f ps pl c kappai ft kappae n kf kr kpx kmx kpc kmc ka kd rt')\n",
    "flow = Matrix([lamb-mur*TR-alpha*V*TR-betar*V*TR,alpha*V*TR+gamma*V*TA-mua*TA-betaa*V*TA,betar*V*TR+betaa*V*TA-ke*E1,ke*E1-ke*E2,ke*E2-ke*E3,(1-epsilon)*ke*E3-delta*IS,epsilon*ke*E3-f*delta*IL,ps*IS+pl*IL-c*V-kappai*V+ft*kappae*VP-2*kf*R*V+kr*B1,kappai*V-kappae*VP,2*kf*R*V-kr*B1-((1)*kpx*R*B1-2*kmx*B2),(1)*kpx*R*B1-2*kmx*B2,-ka*A*R+kd*S,0,0])\n",
    "flow[-1] = -(flow[-3]+flow[9]+2*flow[10])\n",
    "states_all = Matrix([TR, TA, E1, E2, E3, IS, IL, V, VP, B1, B2, S, A, R])\n",
    "states_infected = Matrix([E1, E2, E3, IS, IL, V, VP, B1, B2])\n",
    "temp = flow.jacobian(states_all)[2:-3,2:-3].subs([(TR,lamb/mur),(TA,0),(R,rt)])\n",
    "FF = zeros(len(states_infected),len(states_infected))\n",
    "FF[0,5] = temp[0,5]\n",
    "VV = FF-temp\n",
    "R0 = list((FF*(VV**-1)).eigenvals().keys())[-1]"
   ]
  },
  {
   "cell_type": "code",
   "execution_count": null,
   "id": "fab0ae9c-119c-4771-b6d1-f2a36f6c919d",
   "metadata": {},
   "outputs": [],
   "source": [
    "R0"
   ]
  }
 ],
 "metadata": {
  "kernelspec": {
   "display_name": "Python 3 (ipykernel)",
   "language": "python",
   "name": "python3"
  },
  "language_info": {
   "codemirror_mode": {
    "name": "ipython",
    "version": 3
   },
   "file_extension": ".py",
   "mimetype": "text/x-python",
   "name": "python",
   "nbconvert_exporter": "python",
   "pygments_lexer": "ipython3",
   "version": "3.11.7"
  }
 },
 "nbformat": 4,
 "nbformat_minor": 5
}
