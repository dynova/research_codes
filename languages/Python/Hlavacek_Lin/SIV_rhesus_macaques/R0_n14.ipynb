{
 "cells": [
  {
   "cell_type": "code",
   "execution_count": null,
   "id": "cebe176c-a023-49a3-ba23-79296d5498e5",
   "metadata": {},
   "outputs": [],
   "source": [
    "from sympy import *\n",
    "TR, TA, E1, E2, E3, IS, IL, V, VP, B1, B2, B3, B4, B5, B6, B7, B8, B9, B10, B11, B12, B13, B14, C3, C4, C5, C6, C7, C8, C9, C10, C11, C12, C13, C14, S, A, R = symbols('TR TA E1 E2 E3 IS IL V VP B1 B2 B3 B4 B5 B6 B7 B8 B9 B10 B11 B12 B13 B14 C3 C4 C5 C6 C7 C8 C9 C10 C11 C12 C13 C14 S A R')\n",
    "lamb, mur, alpha, betar, gamma, mua, betaa, ke, epsilon, delta, f, ps, pl, c, kappai, ft, kappae, n, kf, kr, kpx, kmx, kpc, kmc, ka, kd, rt  = symbols('lamb mur alpha betar gamma mua betaa ke epsilon delta f ps pl c kappai ft kappae n kf kr kpx kmx kpc kmc ka kd rt')\n",
    "flow = Matrix([lamb-mur*TR-alpha*V*TR-betar*V*TR,alpha*V*TR+gamma*V*TA-mua*TA-betaa*V*TA,betar*V*TR+betaa*V*TA-ke*E1,ke*E1-ke*E2,ke*E2-ke*E3,(1-epsilon)*ke*E3-delta*IS,epsilon*ke*E3-f*delta*IL,ps*IS+pl*IL-c*V-kappai*V+ft*kappae*VP-n*kf*R*V+kr*B1,kappai*V-kappae*VP,n*kf*R*V-kr*B1-((n-1)*kpx*R*B1-2*kmx*B2),(n-1)*kpx*R*B1-2*kmx*B2-((n-2)*kpx*R*B2-3*kmx*B3),(n-2)*kpx*R*B2-3*kmx*B3-((n-3)*kpx*R*B3-4*kmx*B4)-(kpc*B3-kmc*C3),(n-3)*kpx*R*B3-3*kmx*B4-((n-4)*kpx*R*B4-5*kmx*B5)-(kpc*B4-kmc*C4),(n-4)*kpx*R*B4-3*kmx*B5-((n-5)*kpx*R*B5-6*kmx*B6)-(kpc*B5-kmc*C5),(n-5)*kpx*R*B5-3*kmx*B6-((n-6)*kpx*R*B6-7*kmx*B7)-(kpc*B6-kmc*C6),(n-6)*kpx*R*B6-3*kmx*B7-((n-7)*kpx*R*B7-8*kmx*B8)-(kpc*B7-kmc*C7),(n-7)*kpx*R*B7-3*kmx*B8-((n-8)*kpx*R*B8-9*kmx*B9)-(kpc*B8-kmc*C8),(n-8)*kpx*R*B8-3*kmx*B9-((n-9)*kpx*R*B9-10*kmx*B10)-(kpc*B9-kmc*C9),(n-9)*kpx*R*B9-3*kmx*B10-((n-10)*kpx*R*B10-11*kmx*B11)-(kpc*B10-kmc*C10),(n-10)*kpx*R*B10-3*kmx*B11-((n-11)*kpx*R*B11-12*kmx*B12)-(kpc*B11-kmc*C11),(n-11)*kpx*R*B11-3*kmx*B12-((n-12)*kpx*R*B12-13*kmx*B13)-(kpc*B12-kmc*C12),(n-12)*kpx*R*B12-3*kmx*B13-((n-13)*kpx*R*B13-14*kmx*B14)-(kpc*B13-kmc*C13),(kpx*R*B13-14*kmx*B14)-(kpc*B14-kpc*C14),kpc*B3-kmc*C3,kpc*B4-kmc*C4,kpc*B5-kmc*C5,kpc*B6-kmc*C6,kpc*B7-kmc*C7,kpc*B8-kmc*C8,kpc*B9-kmc*C9,kpc*B10-kmc*C10,kpc*B11-kmc*C11,kpc*B12-kmc*C12,kpc*B13-kmc*C13,kpc*B14-kmc*C14,-ka*A*R+kd*S,0,0])\n",
    "flow[-1] = -(flow[-3]+flow[9]+2*flow[10]+3*(flow[11]+flow[23])+4*(flow[12]+flow[24])+5*(flow[13]+flow[25])+6*(flow[14]+flow[26])+7*(flow[15]+flow[27])+8*(flow[16]+flow[28])+9*(flow[17]+flow[29])+10*(flow[18]+flow[30])+11*(flow[19]+flow[31])+12*(flow[20]+flow[32])+13*(flow[21]+flow[33])+14*(flow[22]+flow[34]))\n",
    "states_all = Matrix([TR, TA, E1, E2, E3, IS, IL, V, VP, B1, B2, B3, B4, B5, B6, B7, B8, B9, B10, B11, B12, B13, B14, C3, C4, C5, C6, C7, C8, C9, C10, C11, C12, C13, C14, S, A, R])\n",
    "states_infected = Matrix([E1, E2, E3, IS, IL, V, VP, B1, B2, B3, B4, B5, B6, B7, B8, B9, B10, B11, B12, B13, B14, C3, C4, C5, C6, C7, C8, C9, C10, C11, C12, C13, C14])\n",
    "temp = flow.jacobian(states_all)[2:-3,2:-3].subs([(TR,lamb/mur),(TA,0),(R,0)])\n",
    "FF = zeros(len(states_infected),len(states_infected))\n",
    "FF[0,5] = temp[0,5]\n",
    "VV = FF-temp\n",
    "R0 = list((FF*(VV**-1)).eigenvals().keys())[-1]"
   ]
  },
  {
   "cell_type": "code",
   "execution_count": null,
   "id": "fab0ae9c-119c-4771-b6d1-f2a36f6c919d",
   "metadata": {},
   "outputs": [],
   "source": [
    "R0"
   ]
  },
  {
   "cell_type": "code",
   "execution_count": 8,
   "id": "ad0c0709-f26c-4aeb-9f5d-9637f8eeb9b5",
   "metadata": {},
   "outputs": [],
   "source": [
    "from numpy import *"
   ]
  },
  {
   "cell_type": "code",
   "execution_count": 10,
   "id": "e4073ff1-28e4-4a5c-abda-f8536e1e2868",
   "metadata": {},
   "outputs": [],
   "source": [
    "x = zeros(561)"
   ]
  },
  {
   "cell_type": "code",
   "execution_count": 13,
   "id": "973d7016-a4f7-4abe-b428-156f3ec1c73c",
   "metadata": {},
   "outputs": [
    {
     "data": {
      "text/plain": [
       "array([0., 0., 0., 0., 0., 0., 0., 0.])"
      ]
     },
     "execution_count": 13,
     "metadata": {},
     "output_type": "execute_result"
    }
   ],
   "source": [
    "x[70::70]"
   ]
  },
  {
   "cell_type": "code",
   "execution_count": null,
   "id": "a1c16df7-d184-457d-b5f0-26a6d1b41fe0",
   "metadata": {},
   "outputs": [],
   "source": []
  }
 ],
 "metadata": {
  "kernelspec": {
   "display_name": "Python 3 (ipykernel)",
   "language": "python",
   "name": "python3"
  },
  "language_info": {
   "codemirror_mode": {
    "name": "ipython",
    "version": 3
   },
   "file_extension": ".py",
   "mimetype": "text/x-python",
   "name": "python",
   "nbconvert_exporter": "python",
   "pygments_lexer": "ipython3",
   "version": "3.11.7"
  }
 },
 "nbformat": 4,
 "nbformat_minor": 5
}
