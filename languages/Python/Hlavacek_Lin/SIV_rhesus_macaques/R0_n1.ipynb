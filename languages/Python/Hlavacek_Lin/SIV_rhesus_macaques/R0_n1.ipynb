{
 "cells": [
  {
   "cell_type": "code",
   "execution_count": 1,
   "id": "cebe176c-a023-49a3-ba23-79296d5498e5",
   "metadata": {
    "scrolled": true
   },
   "outputs": [],
   "source": [
    "from sympy import *\n",
    "TR, TA, E1, E2, E3, IS, IL, V, VP, B1, R = symbols('TR TA E1 E2 E3 IS IL V VP B1 R')\n",
    "lamb, mur, alpha, betar, gamma, mua, betaa, ke, epsilon, delta, f, ps, pl, c, kappai, ft, kappae, n, kf, kr, kpx, kmx, kpc, kmc, ka, kd, rt  = symbols('lamb mur alpha betar gamma mua betaa ke epsilon delta f ps pl c kappai ft kappae n kf kr kpx kmx kpc kmc ka kd rt')\n",
    "flow = Matrix([lamb-mur*TR-alpha*V*TR-betar*V*TR,alpha*V*TR+gamma*V*TA-mua*TA-betaa*V*TA,betar*V*TR+betaa*V*TA-ke*E1,ke*E1-ke*E2,ke*E2-ke*E3,(1-epsilon)*ke*E3-delta*IS,epsilon*ke*E3-f*delta*IL,ps*IS+pl*IL-c*V-kappai*V+ft*kappae*VP-1*kf*R*V+kr*B1,kappai*V-kappae*VP,1*kf*R*V-kr*B1,0])\n",
    "flow[-1] = -flow[-2]\n",
    "states_infected = Matrix([IS, IL, V, VP, B1])\n",
    "temp = flow.jacobian(states_infected).subs([(TR,lamb/mur),(TA,0),(R,rt),(IS,1),(IL,0)])\n",
    "FF = zeros(len(states_infected),len(states_infected))\n",
    "FF[0,5] = beta\n",
    "# VV = FF-temp\n",
    "# R0 = list((FF*(VV**-1)).eigenvals().keys())[-1]"
   ]
  },
  {
   "cell_type": "code",
   "execution_count": 3,
   "id": "225dbc9c-901c-45a0-a768-dcf29cfb917f",
   "metadata": {},
   "outputs": [
    {
     "data": {
      "text/latex": [
       "$\\displaystyle - \\frac{betar lamb \\left(\\epsilon f ps - \\epsilon pl - f ps\\right)}{\\delta f mur \\left(c - ft kappai + kappai\\right)}$"
      ],
      "text/plain": [
       "-betar*lamb*(epsilon*f*ps - epsilon*pl - f*ps)/(delta*f*mur*(c - ft*kappai + kappai))"
      ]
     },
     "execution_count": 3,
     "metadata": {},
     "output_type": "execute_result"
    }
   ],
   "source": [
    "R0"
   ]
  },
  {
   "cell_type": "code",
   "execution_count": 11,
   "id": "745b319d-656c-49bb-8573-a3618e5be0af",
   "metadata": {},
   "outputs": [],
   "source": [
    "FF[0,5] = betar*TR+betaa*TA"
   ]
  },
  {
   "cell_type": "code",
   "execution_count": 12,
   "id": "14051cb0-a72c-4c67-970c-ca48a0d8f8b9",
   "metadata": {},
   "outputs": [
    {
     "data": {
      "text/latex": [
       "$\\displaystyle \\left[\\begin{matrix}0 & 0 & 0 & 0 & 0 & TA betaa + TR betar & 0 & 0\\\\0 & 0 & 0 & 0 & 0 & 0 & 0 & 0\\\\0 & 0 & 0 & 0 & 0 & 0 & 0 & 0\\\\0 & 0 & 0 & 0 & 0 & 0 & 0 & 0\\\\0 & 0 & 0 & 0 & 0 & 0 & 0 & 0\\\\0 & 0 & 0 & 0 & 0 & 0 & 0 & 0\\\\0 & 0 & 0 & 0 & 0 & 0 & 0 & 0\\\\0 & 0 & 0 & 0 & 0 & 0 & 0 & 0\\end{matrix}\\right]$"
      ],
      "text/plain": [
       "Matrix([\n",
       "[0, 0, 0, 0, 0, TA*betaa + TR*betar, 0, 0],\n",
       "[0, 0, 0, 0, 0,                   0, 0, 0],\n",
       "[0, 0, 0, 0, 0,                   0, 0, 0],\n",
       "[0, 0, 0, 0, 0,                   0, 0, 0],\n",
       "[0, 0, 0, 0, 0,                   0, 0, 0],\n",
       "[0, 0, 0, 0, 0,                   0, 0, 0],\n",
       "[0, 0, 0, 0, 0,                   0, 0, 0],\n",
       "[0, 0, 0, 0, 0,                   0, 0, 0]])"
      ]
     },
     "execution_count": 12,
     "metadata": {},
     "output_type": "execute_result"
    }
   ],
   "source": [
    "FF"
   ]
  },
  {
   "cell_type": "code",
   "execution_count": 17,
   "id": "85a4d096-8288-427f-9f33-948c306c4ad7",
   "metadata": {},
   "outputs": [],
   "source": [
    "VV = VV.subs(rt,R)"
   ]
  },
  {
   "cell_type": "code",
   "execution_count": 23,
   "id": "43dcf915-d793-4505-a2d9-81da49d33d05",
   "metadata": {},
   "outputs": [],
   "source": [
    "tt = FF*(VV**-1)"
   ]
  },
  {
   "cell_type": "code",
   "execution_count": 24,
   "id": "50e95fb9-c5ac-4e78-b5ce-456482e42140",
   "metadata": {},
   "outputs": [
    {
     "data": {
      "text/latex": [
       "$\\displaystyle \\left[\\begin{matrix}\\frac{\\left(TA betaa + TR betar\\right) \\left(- \\epsilon f ps + \\epsilon pl + f ps\\right)}{c \\delta f - \\delta f ft kappai + \\delta f kappai} & \\frac{\\left(TA betaa + TR betar\\right) \\left(- \\epsilon f ps + \\epsilon pl + f ps\\right)}{c \\delta f - \\delta f ft kappai + \\delta f kappai} & \\frac{\\left(TA betaa + TR betar\\right) \\left(- \\epsilon f ps + \\epsilon pl + f ps\\right)}{c \\delta f - \\delta f ft kappai + \\delta f kappai} & \\frac{ps \\left(TA betaa + TR betar\\right)}{c \\delta - \\delta ft kappai + \\delta kappai} & \\frac{pl \\left(TA betaa + TR betar\\right)}{c \\delta f - \\delta f ft kappai + \\delta f kappai} & \\frac{TA betaa + TR betar}{c - ft kappai + kappai} & \\frac{ft \\left(TA betaa + TR betar\\right)}{c - ft kappai + kappai} & \\frac{TA betaa + TR betar}{c - ft kappai + kappai}\\\\0 & 0 & 0 & 0 & 0 & 0 & 0 & 0\\\\0 & 0 & 0 & 0 & 0 & 0 & 0 & 0\\\\0 & 0 & 0 & 0 & 0 & 0 & 0 & 0\\\\0 & 0 & 0 & 0 & 0 & 0 & 0 & 0\\\\0 & 0 & 0 & 0 & 0 & 0 & 0 & 0\\\\0 & 0 & 0 & 0 & 0 & 0 & 0 & 0\\\\0 & 0 & 0 & 0 & 0 & 0 & 0 & 0\\end{matrix}\\right]$"
      ],
      "text/plain": [
       "Matrix([\n",
       "[(TA*betaa + TR*betar)*(-epsilon*f*ps + epsilon*pl + f*ps)/(c*delta*f - delta*f*ft*kappai + delta*f*kappai), (TA*betaa + TR*betar)*(-epsilon*f*ps + epsilon*pl + f*ps)/(c*delta*f - delta*f*ft*kappai + delta*f*kappai), (TA*betaa + TR*betar)*(-epsilon*f*ps + epsilon*pl + f*ps)/(c*delta*f - delta*f*ft*kappai + delta*f*kappai), ps*(TA*betaa + TR*betar)/(c*delta - delta*ft*kappai + delta*kappai), pl*(TA*betaa + TR*betar)/(c*delta*f - delta*f*ft*kappai + delta*f*kappai), (TA*betaa + TR*betar)/(c - ft*kappai + kappai), ft*(TA*betaa + TR*betar)/(c - ft*kappai + kappai), (TA*betaa + TR*betar)/(c - ft*kappai + kappai)],\n",
       "[                                                                                                         0,                                                                                                          0,                                                                                                          0,                                                                   0,                                                                         0,                                              0,                                                 0,                                              0],\n",
       "[                                                                                                         0,                                                                                                          0,                                                                                                          0,                                                                   0,                                                                         0,                                              0,                                                 0,                                              0],\n",
       "[                                                                                                         0,                                                                                                          0,                                                                                                          0,                                                                   0,                                                                         0,                                              0,                                                 0,                                              0],\n",
       "[                                                                                                         0,                                                                                                          0,                                                                                                          0,                                                                   0,                                                                         0,                                              0,                                                 0,                                              0],\n",
       "[                                                                                                         0,                                                                                                          0,                                                                                                          0,                                                                   0,                                                                         0,                                              0,                                                 0,                                              0],\n",
       "[                                                                                                         0,                                                                                                          0,                                                                                                          0,                                                                   0,                                                                         0,                                              0,                                                 0,                                              0],\n",
       "[                                                                                                         0,                                                                                                          0,                                                                                                          0,                                                                   0,                                                                         0,                                              0,                                                 0,                                              0]])"
      ]
     },
     "execution_count": 24,
     "metadata": {},
     "output_type": "execute_result"
    }
   ],
   "source": [
    "tt"
   ]
  },
  {
   "cell_type": "code",
   "execution_count": 31,
   "id": "c04cf340-85f0-4af2-ad6c-283569274b67",
   "metadata": {},
   "outputs": [
    {
     "data": {
      "text/latex": [
       "$\\displaystyle - \\frac{betar lamb \\left(\\epsilon f ps - \\epsilon pl - f ps\\right)}{\\delta f mur \\left(c - ft kappai + kappai\\right)}$"
      ],
      "text/plain": [
       "-betar*lamb*(epsilon*f*ps - epsilon*pl - f*ps)/(delta*f*mur*(c - ft*kappai + kappai))"
      ]
     },
     "execution_count": 31,
     "metadata": {},
     "output_type": "execute_result"
    }
   ],
   "source": [
    "R0"
   ]
  },
  {
   "cell_type": "code",
   "execution_count": 2,
   "id": "d97a6b7b-8f46-4c70-90c9-cc05f475b47e",
   "metadata": {},
   "outputs": [
    {
     "data": {
      "text/latex": [
       "$\\displaystyle \\left[\\begin{matrix}0 & 0 & - \\frac{\\alpha lamb}{mur} - \\frac{betar lamb}{mur} & 0 & 0\\\\0 & 0 & \\frac{\\alpha lamb}{mur} & 0 & 0\\\\0 & 0 & \\frac{betar lamb}{mur} & 0 & 0\\\\0 & 0 & 0 & 0 & 0\\\\0 & 0 & 0 & 0 & 0\\\\- \\delta & 0 & 0 & 0 & 0\\\\0 & - \\delta f & 0 & 0 & 0\\\\ps & pl & - c - kappai - kf rt & ft kappae & kr\\\\0 & 0 & kappai & - kappae & 0\\\\0 & 0 & kf rt & 0 & - kr\\\\0 & 0 & - kf rt & 0 & kr\\end{matrix}\\right]$"
      ],
      "text/plain": [
       "Matrix([\n",
       "[     0,        0, -alpha*lamb/mur - betar*lamb/mur,         0,   0],\n",
       "[     0,        0,                   alpha*lamb/mur,         0,   0],\n",
       "[     0,        0,                   betar*lamb/mur,         0,   0],\n",
       "[     0,        0,                                0,         0,   0],\n",
       "[     0,        0,                                0,         0,   0],\n",
       "[-delta,        0,                                0,         0,   0],\n",
       "[     0, -delta*f,                                0,         0,   0],\n",
       "[    ps,       pl,              -c - kappai - kf*rt, ft*kappae,  kr],\n",
       "[     0,        0,                           kappai,   -kappae,   0],\n",
       "[     0,        0,                            kf*rt,         0, -kr],\n",
       "[     0,        0,                           -kf*rt,         0,  kr]])"
      ]
     },
     "execution_count": 2,
     "metadata": {},
     "output_type": "execute_result"
    }
   ],
   "source": [
    "temp"
   ]
  }
 ],
 "metadata": {
  "kernelspec": {
   "display_name": "Python 3 (ipykernel)",
   "language": "python",
   "name": "python3"
  },
  "language_info": {
   "codemirror_mode": {
    "name": "ipython",
    "version": 3
   },
   "file_extension": ".py",
   "mimetype": "text/x-python",
   "name": "python",
   "nbconvert_exporter": "python",
   "pygments_lexer": "ipython3",
   "version": "3.11.7"
  }
 },
 "nbformat": 4,
 "nbformat_minor": 5
}
