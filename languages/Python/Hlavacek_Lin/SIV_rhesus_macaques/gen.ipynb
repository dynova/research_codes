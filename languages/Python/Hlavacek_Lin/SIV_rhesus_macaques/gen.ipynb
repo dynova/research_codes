{
 "cells": [
  {
   "cell_type": "code",
   "execution_count": 121,
   "id": "4e78344b-9c8a-4b67-bd4b-14ea3d6a7bf7",
   "metadata": {},
   "outputs": [
    {
     "data": {
      "image/png": "[encoded data removed]",
      "text/plain": [
       "<Figure size 640x480 with 1 Axes>"
      ]
     },
     "metadata": {},
     "output_type": "display_data"
    }
   ],
   "source": [
    "import numpy as np\n",
    "from scipy.integrate import odeint\n",
    "import matplotlib.pyplot as plt\n",
    "lamb = 94947554.90683231\n",
    "mur = 0.0036139630390143737\n",
    "alpha = 1.2934645340917354e-13\n",
    "betar = 1.4456588706454322e-11\n",
    "gamma = 7.602243456791881e-11\n",
    "mua = 0.0036139630390143737\n",
    "betaa = 9.105023408155239e-11\n",
    "ke = 5.891\n",
    "epsilon = 0.00040809473488108227\n",
    "delta = 1.0\n",
    "f = 0.08751020482882284\n",
    "ps = 4946.400000000001\n",
    "pl = 4946.400000000001\n",
    "c = 141.5\n",
    "kappai = 2.4\n",
    "ft = 0.5\n",
    "kappae = 240.0\n",
    "kf = 6.051422240886086e-13\n",
    "kr = 8640\n",
    "kpx = 4.937336165356041e-09\n",
    "kmx = 8640\n",
    "kpc = 70.38\n",
    "kmc = 0.1524\n",
    "ka = 1.389\n",
    "kd = 864\n",
    "rt = 963752597071.1776\n",
    "betar/=10\n",
    "r0 = betar*lamb/(delta*f*mur)*(epsilon*pl+(1-epsilon)*f*ps)/(c+(1-ft)*kappai)\n",
    "TR0, TA0, E10, E20, E30, IS0, IL0, V0, VP0, B10, R0 = lamb/mur, 0, 0, 0, 0, 1, 0, 0, 0, 0, rt\n",
    "t = np.linspace(0, 10, 1001)\n",
    "def deriv(y, t, lamb, mur, alpha,betar,gamma, mua, betaa,ke,epsilon,delta,f,ps,pl,c,kappai,ft,kappae,kf,kr,kpx,kmx,kpc,kmc,ka,kd,rt):\n",
    "    TR, TA, E1, E2, E3, IS, IL, V, VP, B1, R = y\n",
    "    flow = np.array([lamb-mur*TR-alpha*V*TR-betar*V*TR,alpha*V*TR+gamma*V*TA-mua*TA-betaa*V*TA,betar*V*TR+betaa*V*TA-ke*E1,ke*E1-ke*E2,ke*E2-ke*E3,(1-epsilon)*ke*E3-delta*IS,epsilon*ke*E3-f*delta*IL,ps*IS+pl*IL-c*V-kappai*V+ft*kappae*VP-1*kf*R*V+kr*B1,kappai*V-kappae*VP,1*kf*R*V-kr*B1,0])\n",
    "    flow[-1] = -flow[-2]\n",
    "    return flow[0], flow[1], flow[2], flow[3], flow[4], flow[5], flow[6], flow[7], flow[8], flow[9], flow[10]\n",
    "y0 = TR0, TA0, E10, E20, E30, IS0, IL0, V0, VP0, B10, R0\n",
    "ret = odeint(deriv, y0, t, args=(lamb, mur, alpha,betar,gamma, mua, betaa,ke,epsilon,delta,f,ps,pl,c,kappai,ft,kappae,kf,kr,kpx,kmx,kpc,kmc,ka,kd,rt))\n",
    "TR, TA, E1, E2, E3, IS, IL, V, VP, B1, R = ret.T\n",
    "fig = plt.figure(facecolor='w')\n",
    "ax = fig.add_subplot(111, facecolor='#dddddd', axisbelow=True)\n",
    "ax.plot(t, IS, 'r', alpha=0.5, lw=2, label='Infected')\n",
    "ax.set_yscale('linear')\n",
    "ax.set_xlim(0,10)\n",
    "ax.yaxis.set_tick_params(length=0)\n",
    "ax.xaxis.set_tick_params(length=0)\n",
    "legend = ax.legend()\n",
    "legend.get_frame().set_alpha(0.5)\n",
    "for spine in ('top', 'right', 'bottom', 'left'):\n",
    "    ax.spines[spine].set_visible(False)\n",
    "plt.show()"
   ]
  },
  {
   "cell_type": "code",
   "execution_count": 122,
   "id": "98fe8314-4666-4442-a394-59800ceebe34",
   "metadata": {},
   "outputs": [
    {
     "data": {
      "text/plain": [
       "0.2232859018154593"
      ]
     },
     "execution_count": 122,
     "metadata": {},
     "output_type": "execute_result"
    }
   ],
   "source": [
    "delta*np.log(2)*(r0-1)"
   ]
  },
  {
   "cell_type": "code",
   "execution_count": 123,
   "id": "5352ea50-080f-4493-9676-139119680bb2",
   "metadata": {},
   "outputs": [
    {
     "data": {
      "text/plain": [
       "3.104303383797225"
      ]
     },
     "execution_count": 123,
     "metadata": {},
     "output_type": "execute_result"
    }
   ],
   "source": [
    "1/(r0-1)"
   ]
  },
  {
   "cell_type": "code",
   "execution_count": 124,
   "id": "444f2e89-c030-4fd0-902b-a77346495f58",
   "metadata": {},
   "outputs": [
    {
     "data": {
      "text/plain": [
       "1.1016368843434867"
      ]
     },
     "execution_count": 124,
     "metadata": {},
     "output_type": "execute_result"
    }
   ],
   "source": [
    "IS[300]/IS[250]"
   ]
  },
  {
   "cell_type": "code",
   "execution_count": null,
   "id": "685bb1db-987b-4e8d-9717-4dc4eacc5920",
   "metadata": {},
   "outputs": [],
   "source": []
  }
 ],
 "metadata": {
  "kernelspec": {
   "display_name": "Python 3 (ipykernel)",
   "language": "python",
   "name": "python3"
  },
  "language_info": {
   "codemirror_mode": {
    "name": "ipython",
    "version": 3
   },
   "file_extension": ".py",
   "mimetype": "text/x-python",
   "name": "python",
   "nbconvert_exporter": "python",
   "pygments_lexer": "ipython3",
   "version": "3.11.7"
  }
 },
 "nbformat": 4,
 "nbformat_minor": 5
}
