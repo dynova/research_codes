{
 "cells": [
  {
   "cell_type": "code",
   "execution_count": null,
   "id": "f56d976b-86b9-4ae2-93f9-1c93544210b0",
   "metadata": {},
   "outputs": [],
   "source": [
    "import matplotlib.pyplot as plt\n",
    "import numpy as np\n",
    "from matplotlib import cm, ticker\n",
    "n1, n2 = 10, 10\n",
    "arr_eps = np.logspace(-4,0,n1)\n",
    "arr_tol = np.logspace(-8,-4,n2)\n",
    "eps, tol = np.meshgrid(arr_eps, arr_tol)\n",
    "sens = np.load('run_contour_par_2.npy')\n",
    "fig, ax = plt.subplots()\n",
    "cs = ax.contourf(eps, tol, np.abs(sens), locator=ticker.LogLocator(), cmap=cm.plasma)\n",
    "ax.set_xscale('log')\n",
    "ax.set_yscale('log')\n",
    "ax.set_xlabel('$\\\\epsilon$')\n",
    "ax.set_ylabel('relative tolerance = absolute tolerance')\n",
    "cbar = fig.colorbar(cs)\n",
    "cbar.set_label('Sensitivity (magnitude) for par 2')\n",
    "ax.set_title('Diffrax: Dopri8 with automatic differentiation')\n",
    "plt.savefig(\"contour_plot_par_2.pdf\")"
   ]
  }
 ],
 "metadata": {
  "kernelspec": {
   "display_name": "Python 3 (ipykernel)",
   "language": "python",
   "name": "python3"
  },
  "language_info": {
   "codemirror_mode": {
    "name": "ipython",
    "version": 3
   },
   "file_extension": ".py",
   "mimetype": "text/x-python",
   "name": "python",
   "nbconvert_exporter": "python",
   "pygments_lexer": "ipython3",
   "version": "3.11.7"
  }
 },
 "nbformat": 4,
 "nbformat_minor": 5
}
