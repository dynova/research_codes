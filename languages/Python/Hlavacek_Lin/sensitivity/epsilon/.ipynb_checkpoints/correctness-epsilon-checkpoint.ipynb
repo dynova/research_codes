{
 "cells": [
  {
   "cell_type": "code",
   "execution_count": 23,
   "metadata": {},
   "outputs": [],
   "source": [
    "import numpy as np\n",
    "import blackjax\n",
    "import diffrax\n",
    "import equinox as eqx\n",
    "import jax\n",
    "import jax.numpy as jnp\n",
    "import jax.scipy.stats as stats\n",
    "from jax.scipy.special import polygamma\n",
    "from jax.random import loggamma\n",
    "from scipy import stats\n",
    "from time import time as timeIt\n",
    "from numba import njit, jit, boolean, float64, int64\n",
    "from jax import jvp, vjp, grad, jit, vmap, custom_jvp\n",
    "jax.config.update(\"jax_enable_x64\", True)\n",
    "\n",
    "x = 1.\n",
    "y = 1.\n",
    "state = jnp.array([x,y])\n",
    "eps = 1e-60\n",
    "par = eps\n",
    "tf = 1.\n",
    "\n",
    "def RHS(t,state,par):\n",
    "    x,y = state\n",
    "    eps = par\n",
    "    return jnp.array([-(2+eps**(-1))*x+eps**(-1)*y**2,x-y*(y+1)])\n",
    "\n",
    "def logL(par):\n",
    "    rng_key = jax.random.PRNGKey(0)\n",
    "    tSpan = jnp.linspace(0, tf, 100)\n",
    "    terms = diffrax.ODETerm(RHS)\n",
    "    solver = diffrax.Kvaerno5()\n",
    "    t0 = tSpan[0]\n",
    "    t1 = tSpan[-1]\n",
    "    dt0 = 0.0001\n",
    "    y0 = state\n",
    "    saveat = diffrax.SaveAt(ts=tSpan)\n",
    "    stepsize_controller = diffrax.PIDController(rtol=1e-8, atol=1e-8)       \n",
    "    sol = diffrax.diffeqsolve(\n",
    "    terms,\n",
    "    solver,\n",
    "    t0,\n",
    "    t1,\n",
    "    dt0,\n",
    "    y0,\n",
    "    args = par,\n",
    "    saveat=saveat,\n",
    "    stepsize_controller=stepsize_controller,\n",
    "    )\n",
    "    output = sol.ys[-1,1]\n",
    "\n",
    "    logLval = (output - 10) ** 2\n",
    "    \n",
    "    return logLval"
   ]
  },
  {
   "cell_type": "code",
   "execution_count": 24,
   "metadata": {},
   "outputs": [
    {
     "name": "stdout",
     "output_type": "stream",
     "text": [
      "5.531656216958449e+78\n"
     ]
    }
   ],
   "source": [
    "print(grad(logL)(par))"
   ]
  }
 ],
 "metadata": {
  "kernelspec": {
   "display_name": "Python 3",
   "language": "python",
   "name": "python3"
  },
  "language_info": {
   "codemirror_mode": {
    "name": "ipython",
    "version": 3
   },
   "file_extension": ".py",
   "mimetype": "text/x-python",
   "name": "python",
   "nbconvert_exporter": "python",
   "pygments_lexer": "ipython3",
   "version": "3.8.16"
  },
  "varInspector": {
   "cols": {
    "lenName": 16,
    "lenType": 16,
    "lenVar": 40
   },
   "kernels_config": {
    "python": {
     "delete_cmd_postfix": "",
     "delete_cmd_prefix": "del ",
     "library": "var_list.py",
     "varRefreshCmd": "print(var_dic_list())"
    },
    "r": {
     "delete_cmd_postfix": ") ",
     "delete_cmd_prefix": "rm(",
     "library": "var_list.r",
     "varRefreshCmd": "cat(var_dic_list()) "
    }
   },
   "types_to_exclude": [
    "module",
    "function",
    "builtin_function_or_method",
    "instance",
    "_Feature"
   ],
   "window_display": false
  }
 },
 "nbformat": 4,
 "nbformat_minor": 4
}
