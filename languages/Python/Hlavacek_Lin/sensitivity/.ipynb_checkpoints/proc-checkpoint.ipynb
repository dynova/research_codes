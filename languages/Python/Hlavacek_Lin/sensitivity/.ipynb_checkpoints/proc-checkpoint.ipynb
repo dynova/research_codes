{
 "cells": [
  {
   "cell_type": "code",
   "execution_count": 18,
   "id": "ee4ba550-91f4-4afc-84ef-e083c4f10f73",
   "metadata": {},
   "outputs": [],
   "source": [
    "import numpy as np\n",
    "s1 = ['7','13','26']\n",
    "s2 = ['gd','tc','nm']\n",
    "nn = np.zeros(len(s1)*len(s2))\n",
    "tt = np.zeros(len(s1)*len(s2))\n",
    "ll = np.zeros(len(s1)*len(s2))\n",
    "pp = 100\n",
    "count = -1\n",
    "for ii in s1:\n",
    "    for jj in s2:\n",
    "        count += 1\n",
    "        temp2, temp3 = [], []\n",
    "        for kk in range(pp):\n",
    "            try:\n",
    "                temp1 = np.load('optim/dim'+ii+'/'+jj+'-'+str(kk)+'.npy')\n",
    "                temp2.append(temp1[0])\n",
    "                temp3.append(temp1[1])\n",
    "            except:\n",
    "                pass\n",
    "        nn[count] = len(temp2)\n",
    "        tt[count] = sum(temp2)\n",
    "        ll[count] = min(temp3)"
   ]
  }
 ],
 "metadata": {
  "kernelspec": {
   "display_name": "Python 3 (ipykernel)",
   "language": "python",
   "name": "python3"
  },
  "language_info": {
   "codemirror_mode": {
    "name": "ipython",
    "version": 3
   },
   "file_extension": ".py",
   "mimetype": "text/x-python",
   "name": "python",
   "nbconvert_exporter": "python",
   "pygments_lexer": "ipython3",
   "version": "3.9.6"
  }
 },
 "nbformat": 4,
 "nbformat_minor": 5
}
