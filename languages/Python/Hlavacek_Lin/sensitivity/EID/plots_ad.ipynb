{
 "cells": [
  {
   "cell_type": "code",
   "execution_count": null,
   "id": "d5f32400-c29f-4af1-b16d-657e2662be75",
   "metadata": {},
   "outputs": [],
   "source": [
    "import numpy as np\n",
    "import pickle\n",
    "import matplotlib.pyplot as plt\n",
    "plt.rcParams.update({'font.size':3})\n",
    "with open('/Users/amallela/Documents/codes/EID/ADJ/LSODA/withJacobian/adjy','rb') as f1:\n",
    "    adjy = pickle.load(f1)\n",
    "with open('/Users/amallela/Documents/codes/EID/CFD/LSODA/withJacobian/cfdy','rb') as f3:\n",
    "    cfdy = pickle.load(f3)        \n",
    "ady = np.load('/Users/amallela/Documents/codes/EID/AD/DOPRI8/ss.npy')\n",
    "fwdy = np.array([ 1.21384702e+00,  1.86644932e+01,  8.56555970e-01,  1.62656599e-02,  1.14809785e+02, -2.88624083e+03, -1.45783939e+03,  9.40671724e-02,  7.93015300e+02, -3.56378069e-03, -1.38152284e+01, -1.14756312e-05,  3.85283177e+02,  1.83925658e+02, -3.88212882e+00,  1.04469777e+02, -3.57252909e+00,  2.43835599e+01,  0.00000000e+00, -2.26039197e+01, -3.57252909e+00,  7.72779565e+01,  0.00000000e+00,  0.00000000e+00, -1.82713695e+02,  2.31191765e-01])\n",
    "parLabels = np.array(['$t_0$', '$\\\\sigma - t_0$', '$\\\\tau_1 - \\\\sigma$', '$\\\\tau_2 - \\\\tau_1$','$\\\\beta$','$\\\\lambda_0$','$p_0$','$\\\\lambda_1$','$p_1$','$\\\\lambda_2$','$p_2$','$S_0$','$m_b$','$\\\\rho_{\\\\rm E}$','$\\\\rho_{\\\\rm A}$','$k_L$','$c_I$','$f_A$','$f_H$','$k_Q$','$j_Q$','$c_A$','$c_H$','$f_R$','$f_D$','$r$'])\n",
    "plt.figure(figsize=(100,100))\n",
    "fig, ax = plt.subplots(nrows=5,ncols=5)\n",
    "count = -1\n",
    "for i in range(5):\n",
    "    for j in range(5):\n",
    "        count += 1\n",
    "        if count < 22:\n",
    "            ax[i,j].scatter(np.arange(1), ady[i*5+j+4][0], 4, marker='s', facecolor=[], edgecolor='k', label='AD, 1e-8')\n",
    "            ax[i,j].scatter(np.arange(1), ady[i*5+j+4][2], 4, marker='o', facecolor=[], edgecolor='y', label='AD, 1e-6')            \n",
    "            ax[i,j].scatter(np.arange(1), cfdy[-1][0][i*5+j+4], 4, marker='^', facecolor=[], edgecolor='g', label='FD')\n",
    "            ax[i,j].scatter(np.arange(1), adjy[-1][0][i*5+j+4], 4, marker='v', facecolor=[], edgecolor='r', label='ADJ')\n",
    "            ax[i,j].scatter(np.arange(1), fwdy[i*5+j+4], 4, marker='d', facecolor=[], edgecolor='b', label='FWD')\n",
    "            ax[i,j].set_xticklabels([])\n",
    "            ax[i,j].set_xlabel(parLabels[i*5+j+4],fontsize=4)\n",
    "            ax[i,j].ticklabel_format(axis='y', style='sci')\n",
    "ax[2,2].legend(frameon=False)\n",
    "plt.tight_layout(pad=5.0)\n",
    "plt.savefig('parameter_plots.pdf')"
   ]
  }
 ],
 "metadata": {
  "kernelspec": {
   "display_name": "Python 3 (ipykernel)",
   "language": "python",
   "name": "python3"
  },
  "language_info": {
   "codemirror_mode": {
    "name": "ipython",
    "version": 3
   },
   "file_extension": ".py",
   "mimetype": "text/x-python",
   "name": "python",
   "nbconvert_exporter": "python",
   "pygments_lexer": "ipython3",
   "version": "3.11.7"
  }
 },
 "nbformat": 4,
 "nbformat_minor": 5
}
