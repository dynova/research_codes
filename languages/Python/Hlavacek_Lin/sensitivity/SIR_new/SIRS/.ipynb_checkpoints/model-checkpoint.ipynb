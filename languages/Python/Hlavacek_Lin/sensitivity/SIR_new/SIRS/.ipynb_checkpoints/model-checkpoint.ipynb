{
 "cells": [
  {
   "cell_type": "code",
   "execution_count": null,
   "id": "1c1eaf95-ee88-40cf-9b4a-b475ec030563",
   "metadata": {},
   "outputs": [],
   "source": [
    "import numpy as np\n",
    "from scipy.integrate import solve_ivp\n",
    "from scipy.optimize import minimize\n",
    "import matplotlib.pyplot as plt\n",
    "newCases = np.genfromtxt('sirs.txt')[560:,1]\n",
    "totalN, vv, N = len(newCases), 5000, 100\n",
    "tSpan = np.linspace(0, totalN-1+vv, totalN+vv)\n",
    "M1, T1, P1, M2, T2, P2, M3, T3, P3, M4, T4, P4, M5, T5, P5, gamma, t0, t1, t2, t3 = 0.0116543685, 373.349089, 91.9259976, 0.0116543685, 373.349089, 91.9259976, 0.0116543685, 373.349089, 91.9259976, 0.0116543685, 373.349089, 91.9259976, 0.0116543685, 373.349089, 91.9259976, 0.0100609532, 387.5, 387.5, 387.5, 387.5\n",
    "e1,e2,e3,e4,e5,e6 = 2,1.7,2,1.25,1.8,0.1\n",
    "A1, A2, A3, A4, A5, xi = 0.0464838855004532 * e1, 0.04618037483928664 * e2, 0.045733754338165046 * e3, 0.0456556809310912 * e4, 0.04465499770470104 * e5, 0.117367551 * e6\n",
    "T4 = 375\n",
    "par = np.array([M1, T1, A1, P1, M2, T2, A2, P2, M3, T3, A3, P3, M4, T4, A4, P4, M5, T5, A5, P5, gamma, xi, t0, t1, t2, t3])\n",
    "s0, i0, r0, s, i ,r = 1 - 1/N, 1/N, 0, s0, i0, r0\n",
    "IC = state = np.array([s,i,r])\n",
    "stateDim, parDim = len(IC), len(par)\n",
    "def F(t,state,par):\n",
    "    s, i, r = state\n",
    "    M1, T1, A1, P1, M2, T2, A2, P2, M3, T3, A3, P3, M4, T4, A4, P4, M5, T5, A5, P5, gamma, xi, t0, t1, t2, t3 = par  \n",
    "    beta1, beta2, beta3, beta4, beta5 = M1 + A1 * np.sin(2*np.pi*t*(T1**-1) + P1), M2 + A2 * np.sin(2*np.pi*t*(T2**-1) + P2), M3 + A3 * np.sin(2*np.pi*t*(T3**-1) + P3), M4 + A4 * np.sin(2*np.pi*t*(T4**-1) + P4), M5 + A5 * np.sin(2*np.pi*t*(T5**-1) + P5)\n",
    "    if t <= vv + t0:\n",
    "        beta = beta1\n",
    "    elif t <= vv + t0 + t1:\n",
    "        beta = beta2\n",
    "    elif t <= vv + t0 + t1 + t2:\n",
    "        beta = beta3\n",
    "    elif t <= vv + t0 + t1 + t2 + t3:\n",
    "        beta = beta4\n",
    "    else:\n",
    "        beta = beta5\n",
    "    return np.array([-beta*s*i+xi*r,beta*s*i-gamma*i,gamma*i-xi*r])\n",
    "def process(par):\n",
    "    sol = solve_ivp(fun=lambda t,z: F(t,z,par), t_span=(tSpan[0],tSpan[-1]),y0=state, t_eval=tSpan, method='RK45',rtol=1e-6,atol=1e-6)\n",
    "    newCases = 0.08*sol.y[1,:]+0.01\n",
    "    return newCases\n",
    "def penalty(par):\n",
    "    output = process(par)[vv:]\n",
    "    Lval = np.sum((output-newCases)**2)\n",
    "    return Lval        \n",
    "plt.plot(tSpan[vv:]-vv,process(par)[vv:],label='model')           \n",
    "plt.scatter(tSpan[vv:]-vv,newCases,s=10,color='r',label='data')\n",
    "plt.legend(loc='upper right')\n",
    "\n",
    "sol = solve_ivp(fun=lambda t,z: F(t,z,par), t_span=(tSpan[0],tSpan[-1]),y0=state, t_eval=tSpan, method='RK45',rtol=1e-6,atol=1e-6)\n",
    "plt.plot(tSpan[vv:]-vv,sol.y[0,vv:],label='S')           \n",
    "plt.plot(tSpan[vv:]-vv,sol.y[1,vv:],label='I')           \n",
    "plt.plot(tSpan[vv:]-vv,sol.y[2,vv:],label='R')           \n",
    "plt.legend(loc=((0.73,0.4)))\n",
    "\n",
    "print(list(par))"
   ]
  }
 ],
 "metadata": {
  "kernelspec": {
   "display_name": "Python 3 (ipykernel)",
   "language": "python",
   "name": "python3"
  },
  "language_info": {
   "codemirror_mode": {
    "name": "ipython",
    "version": 3
   },
   "file_extension": ".py",
   "mimetype": "text/x-python",
   "name": "python",
   "nbconvert_exporter": "python",
   "pygments_lexer": "ipython3",
   "version": "3.11.7"
  }
 },
 "nbformat": 4,
 "nbformat_minor": 5
}
