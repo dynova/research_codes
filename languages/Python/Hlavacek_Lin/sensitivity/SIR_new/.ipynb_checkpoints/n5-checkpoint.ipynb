{
 "cells": [
  {
   "cell_type": "code",
   "execution_count": null,
   "id": "8f44d24c-ace7-47ea-9104-10afce35c3c2",
   "metadata": {
    "scrolled": true
   },
   "outputs": [],
   "source": [
    "import numpy as np\n",
    "from scipy.integrate import solve_ivp\n",
    "from scipy.optimize import minimize\n",
    "import matplotlib.pyplot as plt\n",
    "newCases = np.genfromtxt('model.txt')[:,1]\n",
    "totalN = len(newCases)\n",
    "tSpan = np.linspace(0, totalN-1, totalN)\n",
    "t0, t1, t2, t3, t4, b0, b1, b2, b3, b4, g, i0, m = 2, 4, 50, 50, 50, 4.6e-2, 7.8e-3, 7.8e-2, 1.0e-3, 2.6e-4, 0.02, 0.0023, 1700\n",
    "par = np.array([t0, t1, t2, t3, t4, b0, b1, b2, b3, b4, g, i0, m])\n",
    "s0, i0, r0 = 1, i0, 0\n",
    "s, i, r = s0, i0, r0\n",
    "IC = state = np.array([s,i,r])\n",
    "stateDim, parDim = len(IC), len(par)\n",
    "def F(t,state,par):\n",
    "    s, i, r = state\n",
    "    t0, t1, t2, t3, t4, b0, b1, b2, b3, b4, g, i0, m = par\n",
    "    if t <= t0:\n",
    "        b = 0\n",
    "    elif t <= t0 + t1:\n",
    "        b = b0\n",
    "    elif t <= t0 + t1 + t2:\n",
    "        b = b1\n",
    "    elif t <= t0 + t1 + t2 + t3:\n",
    "        b = b2\n",
    "    elif t <= t0 + t1 + t2 + t3 + t4:\n",
    "        b = b3        \n",
    "    else:\n",
    "        b = b4\n",
    "    return np.array([-b*s*i,b*s*i-g*i,g*i])\n",
    "def process(par):\n",
    "    sol = solve_ivp(fun=lambda t,z: F(t,z,par), t_span=(tSpan[0],tSpan[-1]),y0=state, t_eval=tSpan, method='RK45',rtol=1e-6,atol=1e-6)\n",
    "    newCases = par[-1]*sol.y[1,:]\n",
    "    return newCases\n",
    "def penalty(par):\n",
    "    output = process(par)\n",
    "    Lval = np.sum((output-newCases)**2)\n",
    "    return Lval        \n",
    "\n",
    "bds = np.array([[1e-6,1e2],[1e-6,1e2],[1e-6,1e2],[1e-6,1e2],[1e-6,1e2],[1e-6,1e0],[1e-6,1e0],[1e-6,1e0],[1e-6,1e0],[1e-6,1e0],[1e-6,1e0],[1e-6,1e0],[1e0,1e4]])\n",
    "x0 = par\n",
    "result = minimize(penalty, x0, method='Nelder-Mead', options={'adaptive': True, 'disp': True, 'maxiter': 10000, 'maxfev': 10000}, bounds = bds)    "
   ]
  },
  {
   "cell_type": "code",
   "execution_count": null,
   "id": "6099347a-8c66-40e0-87ee-1872a7109c0c",
   "metadata": {},
   "outputs": [],
   "source": [
    "plt.rcParams.update({'font.size':12})\n",
    "fig = plt.figure()\n",
    "fig.set_size_inches(9,9)\n",
    "ax = plt.subplot(1,1,1)\n",
    "ax.scatter(tSpan, newCases, 60, marker='+', color = 'black', zorder = 500)\n",
    "ax.plot(tSpan,process(result.x), color='red', linewidth = 2)           \n",
    "ax.set_xticks(np.linspace(0,len(newCases)-1,12))\n",
    "ax.set_xticklabels(['09-01-22','09-23-22','10-15-22','11-06-22','11-28-22','12-20-22','01-11-23','02-02-23','02-24-23','03-18-23','04-09-23','04-30-23'],rotation=90)\n",
    "ax.set_ylabel('Confirmed hospitalization counts')\n",
    "ax.set_title('Nevada')\n",
    "# plt.savefig('/Users/amallela/Documents/sensitivity/writing/p0.pdf',dpi=600)"
   ]
  },
  {
   "cell_type": "code",
   "execution_count": null,
   "id": "81e4af4f-a68a-4071-ba4d-521f6f625c2d",
   "metadata": {},
   "outputs": [],
   "source": [
    "result.x"
   ]
  },
  {
   "cell_type": "code",
   "execution_count": null,
   "id": "2aae7fbe-7cf4-4a40-bdad-253d45b1e948",
   "metadata": {},
   "outputs": [],
   "source": [
    "result.fun"
   ]
  }
 ],
 "metadata": {
  "kernelspec": {
   "display_name": "Python 3 (ipykernel)",
   "language": "python",
   "name": "python3"
  },
  "language_info": {
   "codemirror_mode": {
    "name": "ipython",
    "version": 3
   },
   "file_extension": ".py",
   "mimetype": "text/x-python",
   "name": "python",
   "nbconvert_exporter": "python",
   "pygments_lexer": "ipython3",
   "version": "3.9.6"
  }
 },
 "nbformat": 4,
 "nbformat_minor": 5
}
