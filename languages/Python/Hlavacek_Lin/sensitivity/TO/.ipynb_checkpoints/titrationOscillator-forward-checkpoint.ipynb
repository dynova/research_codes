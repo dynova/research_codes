{
 "cells": [
  {
   "cell_type": "code",
   "execution_count": null,
   "id": "c8aac328-907d-4591-858d-5fe2b4017586",
   "metadata": {
    "scrolled": true
   },
   "outputs": [
    {
     "name": "stdout",
     "output_type": "stream",
     "text": [
      "1\n"
     ]
    },
    {
     "name": "stderr",
     "output_type": "stream",
     "text": [
      "Traceback (most recent call last):\n",
      "capi_return is NULL\n",
      "Call-back cb_f_in_lsoda__user__routines failed.\n",
      "Fatal Python error: F2PySwapThreadLocalCallbackPtr: F2PySwapThreadLocalCallbackPtr: PyLong_AsVoidPtr failed\n",
      "Python runtime state: initialized\n",
      "  File \"/Users/amallela/Library/Python/3.9/lib/python/site-packages/scipy/integrate/_ivp/base.py\", line 154, in fun\n",
      "    return self.fun_single(t, y)\n",
      "  File \"/Users/amallela/Library/Python/3.9/lib/python/site-packages/scipy/integrate/_ivp/base.py\", line 23, in fun_wrapped\n",
      "    return np.asarray(fun(t, y), dtype=dtype)\n",
      "  File \"/var/folders/pp/16tdg6v54nqgg6vt1rl38ljw0011vy/T/ipykernel_51541/3918371427.py\", line 67, in <lambda>\n",
      "  File \"/var/folders/pp/16tdg6v54nqgg6vt1rl38ljw0011vy/T/ipykernel_51541/3918371427.py\", line 50, in jointF\n",
      "  File \"/Users/amallela/Library/Python/3.9/lib/python/site-packages/numba/core/dispatcher.py\", line 468, in _compile_for_args\n",
      "    error_rewrite(e, 'typing')\n",
      "  File \"/Users/amallela/Library/Python/3.9/lib/python/site-packages/numba/core/dispatcher.py\", line 409, in error_rewrite\n",
      "    raise e.with_traceback(None)\n",
      "numba.core.errors.TypingError: Failed in nopython mode pipeline (step: nopython frontend)\n",
      "NameError: name 'tempX' is not defined\n"
     ]
    }
   ],
   "source": [
    "import numpy as np\n",
    "from scipy.integrate import solve_ivp\n",
    "from time import time\n",
    "from numba import njit\n",
    "tol = 1e-8\n",
    "nn = 301\n",
    "x = 0.0\n",
    "y = 0.0\n",
    "betaBX = 200.0\n",
    "betaFX = 10.5\n",
    "kappaX = 1.2\n",
    "kappaY = 0.9\n",
    "theta = 1.0\n",
    "alpha = 10.0\n",
    "betaBY = 400.0\n",
    "betaFY = 10.0\n",
    "deltaX = 1.0\n",
    "deltaY = 0.05\n",
    "par = betaFX\n",
    "IC = state = np.array([x,y])\n",
    "\n",
    "stateDim, parDim = len(state), 1\n",
    "\n",
    "@njit\n",
    "def F(t,state,par):  \n",
    "    x,y = state\n",
    "    betaFX = par  \n",
    "    tempX = x * kappaX / theta\n",
    "    tempY = x * kappaY / theta\n",
    "    dxdt = betaFX + (betaBX - betaFX) * (tempX**3) / (1 + tempX + tempX**2 + tempX**3) - deltaX*x - alpha*x*y\n",
    "    dydt = betaFY + (betaBY - betaFY) * (tempY**3) / (1 + tempY + tempY**2 + tempY**3) - deltaY*y - alpha*x*y    \n",
    "    return np.array([dxdt,dydt])\n",
    "        \n",
    "@njit\n",
    "def J(t,state,par):\n",
    "    x,y = state\n",
    "    betaFX = par\n",
    "    return np.array([[(-kappaX**4*x**3*(betaBX - betaFX)*(3*kappaX**2*x**2 + 2*kappaX*theta*x + theta**2) + 3*kappaX**3*x**2*(betaBX - betaFX)*(kappaX**3*x**3 + kappaX**2*theta*x**2 + kappaX*theta**2*x + theta**3) - (alpha*y + deltaX)*(kappaX**3*x**3 + kappaX**2*theta*x**2 + kappaX*theta**2*x + theta**3)**2)/(kappaX**3*x**3 + kappaX**2*theta*x**2 + kappaX*theta**2*x + theta**3)**2, -alpha*x], [(-alpha*y*(kappaY**3*x**3 + kappaY**2*theta*x**2 + kappaY*theta**2*x + theta**3)**2 - kappaY**4*x**3*(betaBY - betaFY)*(3*kappaY**2*x**2 + 2*kappaY*theta*x + theta**2) + 3*kappaY**3*x**2*(betaBY - betaFY)*(kappaY**3*x**3 + kappaY**2*theta*x**2 + kappaY*theta**2*x + theta**3))/(kappaY**3*x**3 + kappaY**2*theta*x**2 + kappaY*theta**2*x + theta**3)**2, -alpha*x - deltaY]])\n",
    "\n",
    "@njit\n",
    "def dFdtheta_constant(t,state,par):\n",
    "    x,y = state\n",
    "    betaFX = par\n",
    "    tempX = x * kappaX / theta    \n",
    "    return np.array([[1-(tempX**3) / (1 + tempX + tempX**2 + tempX**3)],[0.0]])\n",
    " \n",
    "def jointF(t,jointState,par):\n",
    "    x = jointState[:stateDim]\n",
    "    s = jointState[stateDim:].reshape((stateDim,parDim))\n",
    "    dx = F(t,x,par)\n",
    "    ds = (J(t,x,par).dot(s)+ dFdtheta_constant(t,x,par)).reshape((stateDim*parDim,))\n",
    "    return np.hstack((dx,ds))\n",
    "    \n",
    "jointState = np.zeros(stateDim*(parDim+1))\n",
    "jointState[:stateDim] = IC[:]\n",
    "\n",
    "temp1 = np.zeros(nn)\n",
    "temp2 = np.zeros(nn)\n",
    "count = 0\n",
    "tf_arr = np.linspace(0,20,nn)\n",
    "for ii in range(1,nn):\n",
    "    tf = tf_arr[ii]\n",
    "    tSpan = np.linspace(0,tf,2)    \n",
    "    count += 1\n",
    "    print(count)\n",
    "    for i in range(2):\n",
    "        tic = time()\n",
    "        sol_buffer = solve_ivp(fun=lambda t,z: jointF(t,z,par), t_span=(tSpan[0],tSpan[-1]),y0=jointState, t_eval=tSpan, method='LSODA', rtol=tol,atol=tol)\n",
    "        xx = sol_buffer.y[2,-1]\n",
    "        temp1[count] = time()-tic\n",
    "    temp2[count] = xx        "
   ]
  },
  {
   "cell_type": "code",
   "execution_count": null,
   "id": "79098f88-28ac-49c9-8a2e-0662b8469079",
   "metadata": {},
   "outputs": [],
   "source": []
  }
 ],
 "metadata": {
  "kernelspec": {
   "display_name": "Python 3 (ipykernel)",
   "language": "python",
   "name": "python3"
  },
  "language_info": {
   "codemirror_mode": {
    "name": "ipython",
    "version": 3
   },
   "file_extension": ".py",
   "mimetype": "text/x-python",
   "name": "python",
   "nbconvert_exporter": "python",
   "pygments_lexer": "ipython3",
   "version": "3.9.6"
  }
 },
 "nbformat": 4,
 "nbformat_minor": 5
}
