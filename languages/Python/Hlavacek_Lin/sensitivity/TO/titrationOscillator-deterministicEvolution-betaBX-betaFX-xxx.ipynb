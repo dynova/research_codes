{
 "cells": [
  {
   "cell_type": "code",
   "execution_count": 5,
   "metadata": {
    "run_control": {
     "marked": true
    }
   },
   "outputs": [],
   "source": [
    "import numpy as np\n",
    "from scipy.integrate import solve_ivp\n",
    "from matplotlib import pyplot as plt\n",
    "from matplotlib import cm "
   ]
  },
  {
   "cell_type": "code",
   "execution_count": 6,
   "metadata": {
    "run_control": {
     "marked": true
    }
   },
   "outputs": [],
   "source": [
    "plt.rcParams.update({'font.size':14})"
   ]
  },
  {
   "cell_type": "code",
   "execution_count": 16,
   "metadata": {
    "run_control": {
     "marked": true
    }
   },
   "outputs": [],
   "source": [
    "initial2Dlocations = np.array([\n",
    "    [9 , 165],\n",
    "    [7 , 210],\n",
    "    [6.5 , 260],\n",
    "    [9 , 310],\n",
    "    [20, 165],\n",
    "    [20, 300],\n",
    "    [25, 210],\n",
    "    [25, 260],\n",
    "])"
   ]
  },
  {
   "cell_type": "code",
   "execution_count": 41,
   "metadata": {
    "run_control": {
     "marked": true
    },
    "scrolled": true
   },
   "outputs": [],
   "source": [
    "par = {'kappaX':1.2,\n",
    "       'kappaY':0.9,\n",
    "       'theta':1,\n",
    "       'nA':3,\n",
    "       'nB':3,\n",
    "       'alpha':10,\n",
    "       'betaBX':200,\n",
    "       'betaFX':10.5,\n",
    "       'betaBY':400,\n",
    "       'betaFY':10,\n",
    "       'deltaX':1.,\n",
    "       'deltaY':0.05,}\n",
    "\n",
    "def H(x,kappa,theta,N):\n",
    "    \n",
    "    prob=np.ones([1,N+1])\n",
    "    \n",
    "    for i in range(1,N+1):\n",
    "        prob[0,i] = prob[0,i-1] * kappa * x  / theta \n",
    "    \n",
    "    total=0\n",
    "    \n",
    "    for i in range(N+1):\n",
    "        total += prob[0,i]\n",
    "    \n",
    "    return prob[0][N]/total\n",
    "\n",
    "\n",
    "def RHS(t,z,par):\n",
    "    \n",
    "    x,y  = z\n",
    "    \n",
    "    dxdt =  par['betaFX'] + (par['betaBX']-par['betaFX'])*H(x,par['kappaX'],par['theta'],3)-par['deltaX']*x - par['alpha']*x*y\n",
    "    dydt =  par['betaFY'] + (par['betaBY']-par['betaFY'])*H(x,par['kappaY'],par['theta'],3)-par['deltaY']*y - par['alpha']*x*y\n",
    "    \n",
    "    return np.array([dxdt,dydt])\n",
    "\n"
   ]
  },
  {
   "cell_type": "code",
   "execution_count": 44,
   "metadata": {},
   "outputs": [],
   "source": [
    "tSpan = np.linspace(0,20,1001)\n",
    "sol =  solve_ivp(fun=lambda t,z: RHS(t,z,par), t_span=(tSpan[0],tSpan[-1]), y0=(0.0,0.0), t_eval=tSpan, method='LSODA', rtol=1e-5, atol=1e-5)\n",
    "        "
   ]
  },
  {
   "cell_type": "code",
   "execution_count": 45,
   "metadata": {},
   "outputs": [
    {
     "data": {
      "text/plain": [
       "[<matplotlib.lines.Line2D at 0x7fd78893a370>]"
      ]
     },
     "execution_count": 45,
     "metadata": {},
     "output_type": "execute_result"
    },
    {
     "data": {
      "image/png": "[encoded data removed]",
      "text/plain": [
       "<Figure size 432x288 with 1 Axes>"
      ]
     },
     "metadata": {
      "needs_background": "light"
     },
     "output_type": "display_data"
    }
   ],
   "source": [
    "plt.plot(sol.t, sol.y[0,:])\n",
    "plt.plot(sol.t, sol.y[1,:])"
   ]
  },
  {
   "cell_type": "code",
   "execution_count": null,
   "metadata": {},
   "outputs": [],
   "source": []
  }
 ],
 "metadata": {
  "kernelspec": {
   "display_name": "Python 3 (ipykernel)",
   "language": "python",
   "name": "python3"
  },
  "language_info": {
   "codemirror_mode": {
    "name": "ipython",
    "version": 3
   },
   "file_extension": ".py",
   "mimetype": "text/x-python",
   "name": "python",
   "nbconvert_exporter": "python",
   "pygments_lexer": "ipython3",
   "version": "3.9.6"
  },
  "varInspector": {
   "cols": {
    "lenName": 16,
    "lenType": 16,
    "lenVar": 40
   },
   "kernels_config": {
    "python": {
     "delete_cmd_postfix": "",
     "delete_cmd_prefix": "del ",
     "library": "var_list.py",
     "varRefreshCmd": "print(var_dic_list())"
    },
    "r": {
     "delete_cmd_postfix": ") ",
     "delete_cmd_prefix": "rm(",
     "library": "var_list.r",
     "varRefreshCmd": "cat(var_dic_list()) "
    }
   },
   "oldHeight": 748.735364,
   "position": {
    "height": "770.71px",
    "left": "2477.27px",
    "right": "20px",
    "top": "122.997px",
    "width": "457.003px"
   },
   "types_to_exclude": [
    "module",
    "function",
    "builtin_function_or_method",
    "instance",
    "_Feature"
   ],
   "varInspector_section_display": "block",
   "window_display": false
  }
 },
 "nbformat": 4,
 "nbformat_minor": 4
}
