{
 "cells": [
  {
   "cell_type": "code",
   "execution_count": 1,
   "id": "781c3518-d69d-4682-8f70-921f7cf76ab3",
   "metadata": {},
   "outputs": [],
   "source": [
    "import numpy as np\n",
    "import matplotlib.pyplot as plt\n",
    "tf = 20\n",
    "nn = 1001\n",
    "tSpan = np.linspace(0, tf, nn)\n",
    "ww = np.load('ww.npy') # adjoint\n",
    "xx = np.load('xx.npy') # AD\n",
    "yy = np.load('yy.npy') # forward\n",
    "zz = np.load('zz.npy') # FD"
   ]
  },
  {
   "cell_type": "code",
   "execution_count": 2,
   "id": "90e7922b-d119-417b-82e6-c4edc2a65d58",
   "metadata": {},
   "outputs": [
    {
     "data": {
      "text/plain": [
       "<Figure size 640x480 with 0 Axes>"
      ]
     },
     "metadata": {},
     "output_type": "display_data"
    }
   ],
   "source": [
    "plt.plot(tSpan[1:],np.abs(ww[1:,0]-xx[1:,0]),label = 'Absolute error between adjoint and AD (par: betaBX)')\n",
    "plt.plot(tSpan[1:],np.abs(ww[1:,1]-xx[1:,1]),label = 'Absolute error between adjoint and AD (par: betaFX)')\n",
    "plt.xlabel('t')\n",
    "plt.legend(loc='upper right', frameon=False, fontsize = 6)\n",
    "plt.savefig('absolute_adjoint_AD.pdf')\n",
    "plt.clf()\n",
    "\n",
    "plt.plot(tSpan[1:],np.abs(ww[1:,0]-yy[1:,0]),label = 'Absolute error between adjoint and forward (par: betaBX)')\n",
    "plt.plot(tSpan[1:],np.abs(ww[1:,1]-yy[1:,1]),label = 'Absolute error between adjoint and forward (par: betaFX)')\n",
    "plt.xlabel('t')\n",
    "plt.legend(loc='upper right', frameon=False, fontsize = 6)\n",
    "plt.savefig('absolute_adjoint_forward.pdf')\n",
    "plt.clf()\n",
    "\n",
    "plt.plot(tSpan[1:],np.abs(ww[1:,0]-zz[1:,0]),label = 'Absolute error between adjoint and FD (par: betaBX)')\n",
    "plt.plot(tSpan[1:],np.abs(ww[1:,1]-zz[1:,1]),label = 'Absolute error between adjoint and FD (par: betaFX)')\n",
    "plt.xlabel('t')\n",
    "plt.legend(loc='upper right', frameon=False, fontsize = 6)\n",
    "plt.savefig('absolute_adjoint_FD.pdf')\n",
    "plt.clf()\n",
    "\n",
    "plt.plot(tSpan[1:],np.abs(xx[1:,0]-yy[1:,0]),label = 'Absolute error between AD and forward (par: betaBX)')\n",
    "plt.plot(tSpan[1:],np.abs(xx[1:,1]-yy[1:,1]),label = 'Absolute error between AD and forward (par: betaFX)')\n",
    "plt.xlabel('t')\n",
    "plt.legend(loc='upper right', frameon=False, fontsize = 6)\n",
    "plt.savefig('absolute_AD_forward.pdf')\n",
    "plt.clf()\n",
    "\n",
    "plt.plot(tSpan[1:],np.abs(xx[1:,0]-zz[1:,0]),label = 'Absolute error between AD and FD (par: betaBX)')\n",
    "plt.plot(tSpan[1:],np.abs(xx[1:,1]-zz[1:,1]),label = 'Absolute error between AD and FD (par: betaFX)')\n",
    "plt.xlabel('t')\n",
    "plt.legend(loc='upper right', frameon=False, fontsize = 6)\n",
    "plt.savefig('absolute_AD_FD.pdf')\n",
    "plt.clf()\n",
    "\n",
    "plt.plot(tSpan[1:],np.abs(yy[1:,0]-zz[1:,0]),label = 'Absolute error between forward and FD (par: betaBX)')\n",
    "plt.plot(tSpan[1:],np.abs(yy[1:,1]-zz[1:,1]),label = 'Absolute error between forward and FD (par: betaFX)')\n",
    "plt.xlabel('t')\n",
    "plt.legend(loc='upper right', frameon=False, fontsize = 6)\n",
    "plt.savefig('absolute_forward_FD.pdf')\n",
    "plt.clf()"
   ]
  },
  {
   "cell_type": "code",
   "execution_count": 3,
   "id": "f055163c-84bc-47b1-a68b-03d53078ed8a",
   "metadata": {},
   "outputs": [
    {
     "data": {
      "text/plain": [
       "<Figure size 640x480 with 0 Axes>"
      ]
     },
     "metadata": {},
     "output_type": "display_data"
    }
   ],
   "source": [
    "plt.plot(tSpan[1:],np.abs(1-ww[1:,0]/xx[1:,0]),label = 'Relative error between adjoint and AD (par: betaBX)')\n",
    "plt.plot(tSpan[1:],np.abs(1-ww[1:,1]/xx[1:,1]),label = 'Relative error between adjoint and AD (par: betaFX)')\n",
    "plt.xlabel('t')\n",
    "plt.legend(loc='upper right', frameon=False, fontsize = 6)\n",
    "plt.savefig('relative_adjoint_AD.pdf')\n",
    "plt.clf()\n",
    "\n",
    "plt.plot(tSpan[1:],np.abs(1-ww[1:,0]/yy[1:,0]),label = 'Relative error between adjoint and forward (par: betaBX)')\n",
    "plt.plot(tSpan[1:],np.abs(1-ww[1:,1]/yy[1:,1]),label = 'Relative error between adjoint and forward (par: betaFX)')\n",
    "plt.xlabel('t')\n",
    "plt.legend(loc='upper right', frameon=False, fontsize = 6)\n",
    "plt.savefig('relative_adjoint_forward.pdf')\n",
    "plt.clf()\n",
    "\n",
    "plt.plot(tSpan[1:],np.abs(1-ww[1:,0]/zz[1:,0]),label = 'Relative error between adjoint and FD (par: betaBX)')\n",
    "plt.plot(tSpan[1:],np.abs(1-ww[1:,1]/zz[1:,1]),label = 'Relative error between adjoint and FD (par: betaFX)')\n",
    "plt.xlabel('t')\n",
    "plt.legend(loc='upper right', frameon=False, fontsize = 6)\n",
    "plt.savefig('relative_adjoint_FD.pdf')\n",
    "plt.clf()\n",
    "\n",
    "plt.plot(tSpan[1:],np.abs(1-xx[1:,0]/yy[1:,0]),label = 'Relative error between AD and forward (par: betaBX)')\n",
    "plt.plot(tSpan[1:],np.abs(1-xx[1:,1]/yy[1:,1]),label = 'Relative error between AD and forward (par: betaFX)')\n",
    "plt.xlabel('t')\n",
    "plt.legend(loc='upper right', frameon=False, fontsize = 6)\n",
    "plt.savefig('relative_AD_forward.pdf')\n",
    "plt.clf()\n",
    "\n",
    "plt.plot(tSpan[1:],np.abs(1-xx[1:,0]/zz[1:,0]),label = 'Relative error between AD and FD (par: betaBX)')\n",
    "plt.plot(tSpan[1:],np.abs(1-xx[1:,1]/zz[1:,1]),label = 'Relative error between AD and FD (par: betaFX)')\n",
    "plt.xlabel('t')\n",
    "plt.legend(loc='upper right', frameon=False, fontsize = 6)\n",
    "plt.savefig('relative_AD_FD.pdf')\n",
    "plt.clf()\n",
    "\n",
    "plt.plot(tSpan[1:],np.abs(1-yy[1:,0]/zz[1:,0]),label = 'Relative error between forward and FD (par: betaBX)')\n",
    "plt.plot(tSpan[1:],np.abs(1-yy[1:,1]/zz[1:,1]),label = 'Relative error between forward and FD (par: betaFX)')\n",
    "plt.xlabel('t')\n",
    "plt.legend(loc='upper right', frameon=False, fontsize = 6)\n",
    "plt.savefig('relative_forward_FD.pdf')\n",
    "plt.clf()"
   ]
  }
 ],
 "metadata": {
  "kernelspec": {
   "display_name": "Python 3 (ipykernel)",
   "language": "python",
   "name": "python3"
  },
  "language_info": {
   "codemirror_mode": {
    "name": "ipython",
    "version": 3
   },
   "file_extension": ".py",
   "mimetype": "text/x-python",
   "name": "python",
   "nbconvert_exporter": "python",
   "pygments_lexer": "ipython3",
   "version": "3.9.6"
  }
 },
 "nbformat": 4,
 "nbformat_minor": 5
}
