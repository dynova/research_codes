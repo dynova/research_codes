{
 "cells": [
  {
   "cell_type": "code",
   "execution_count": null,
   "id": "da69040e-a867-49e2-b66f-7c2271581475",
   "metadata": {},
   "outputs": [],
   "source": [
    "import numpy as np\n",
    "from scipy.integrate import solve_ivp\n",
    "a = 0.7\n",
    "b = 0.8\n",
    "tau = 12.5\n",
    "I = 1.3\n",
    "tSpan = np.linspace(0, 200, 1000)\n",
    "V = 0.0\n",
    "W = 0.0\n",
    "par = np.array([a,b,tau,I])\n",
    "IC = state = np.array([V,W])\n",
    "stateDim, parDim = len(IC), len(par)\n",
    "\n",
    "def F(t,state,par):\n",
    "    V,W = state\n",
    "    a,b,tau,I = par\n",
    "    return np.array([V - (V**3)/3.0 - W + I, (1/tau)*(V+a-b*W)])    \n",
    "        \n",
    "def J(t,state,par):\n",
    "    V,W = state\n",
    "    a,b,tau,I = par\n",
    "    return np.array([[1-V**2,-1],[1/tau,-b/tau]])     \n",
    "        \n",
    "def dFdtheta_constant(t,state,par):\n",
    "    V,W = state\n",
    "    a,b,tau,I = par\n",
    "    return np.array([[0,0,0,1],[1/tau,-W/tau,-(tau)**(-2)*(V+a-b*W),0]])\n",
    " \n",
    "def jointF(t,jointState,par):\n",
    "\n",
    "    x = jointState[:len(state)]\n",
    "    s = jointState[len(state):].reshape((len(state),len(par)))\n",
    "    dx = F(t,x,par)\n",
    "    ds = (J(t,x,par).dot(s)+ dFdtheta_constant(t,x,par)).reshape((len(state)*len(par),))\n",
    "    return np.hstack((dx,ds))\n",
    "    \n",
    "stateDim = len(state)\n",
    "nn = len(par)\n",
    "jointState = np.zeros(stateDim*(nn+1))\n",
    "jointState[:stateDim] = IC[:]\n",
    "sol_buffer = solve_ivp(fun=lambda t,z: jointF(t,z,par), t_span=(tSpan[0],tSpan[-1]),y0=jointState, t_eval=tSpan, method='LSODA', rtol=1e-6,atol=1e-6)\n",
    "print(sol_buffer.y[2:6,-1])"
   ]
  }
 ],
 "metadata": {
  "kernelspec": {
   "display_name": "Python 3 (ipykernel)",
   "language": "python",
   "name": "python3"
  },
  "language_info": {
   "codemirror_mode": {
    "name": "ipython",
    "version": 3
   },
   "file_extension": ".py",
   "mimetype": "text/x-python",
   "name": "python",
   "nbconvert_exporter": "python",
   "pygments_lexer": "ipython3",
   "version": "3.11.7"
  }
 },
 "nbformat": 4,
 "nbformat_minor": 5
}
