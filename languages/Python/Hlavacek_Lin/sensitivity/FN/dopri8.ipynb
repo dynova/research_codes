{
 "cells": [
  {
   "cell_type": "code",
   "execution_count": null,
   "id": "1eb2bdb0-325a-4eea-bcfb-f747289b5b05",
   "metadata": {},
   "outputs": [],
   "source": [
    "import numpy as np\n",
    "import diffrax\n",
    "import jax\n",
    "import jax.numpy as jnp\n",
    "import jax.scipy.stats as stats\n",
    "from jax.scipy.special import gammaln\n",
    "from time import time\n",
    "from jax import grad\n",
    "import matplotlib.pyplot as plt\n",
    "jax.config.update(\"jax_enable_x64\", True)\n",
    "a = 0.7\n",
    "b = 0.8\n",
    "tau = 12.5\n",
    "I = 1.3\n",
    "tSpan = jnp.linspace(0, 200, 1000)\n",
    "par = jnp.array([a,b,tau,I])\n",
    "V = 0.0\n",
    "W = 0.0\n",
    "IC = state = jnp.array([V,W])\n",
    "def RHS(t,state,par):\n",
    "    V,W = state\n",
    "    a,b,tau,I = par\n",
    "    return jnp.array([V - (V**3)/3.0 - W + I, (1/tau)*(V+a-b*W)])    \n",
    "def logL(par):\n",
    "    terms = diffrax.ODETerm(RHS)\n",
    "    solver = diffrax.Dopri8()\n",
    "    t0 = tSpan[0]\n",
    "    t1 = tSpan[-1]\n",
    "    dt0 = 1e-4\n",
    "    y0 = state\n",
    "    saveat = diffrax.SaveAt(ts=tSpan)\n",
    "    stepsize_controller = diffrax.PIDController(rtol=tolerance, atol=tolerance)       \n",
    "    sol = diffrax.diffeqsolve(\n",
    "    terms,\n",
    "    solver,\n",
    "    t0,\n",
    "    t1,\n",
    "    dt0,\n",
    "    y0,\n",
    "    args = (par),\n",
    "    saveat=saveat,\n",
    "    stepsize_controller=stepsize_controller,\n",
    "    max_steps = int(1e8),\n",
    "    )\n",
    "    return sol.ys[-1,0]    \n",
    "\n",
    "for tolerance in jnp.logspace(-8,-2,7):\n",
    "    y = grad(logL)(par)\n",
    "    print(y)"
   ]
  }
 ],
 "metadata": {
  "kernelspec": {
   "display_name": "Python 3 (ipykernel)",
   "language": "python",
   "name": "python3"
  },
  "language_info": {
   "codemirror_mode": {
    "name": "ipython",
    "version": 3
   },
   "file_extension": ".py",
   "mimetype": "text/x-python",
   "name": "python",
   "nbconvert_exporter": "python",
   "pygments_lexer": "ipython3",
   "version": "3.11.7"
  }
 },
 "nbformat": 4,
 "nbformat_minor": 5
}
